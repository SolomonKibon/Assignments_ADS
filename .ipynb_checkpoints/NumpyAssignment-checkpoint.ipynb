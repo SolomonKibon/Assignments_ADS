{
 "cells": [
  {
   "cell_type": "code",
   "execution_count": 2,
   "id": "f0562fab",
   "metadata": {},
   "outputs": [],
   "source": [
    "import numpy as np\n",
    "heights = np.array([160, 155, 172, 165, 180, 158, 175, 163, 171, 168])"
   ]
  },
  {
   "cell_type": "code",
   "execution_count": 4,
   "id": "9357bd6a",
   "metadata": {},
   "outputs": [
    {
     "name": "stdout",
     "output_type": "stream",
     "text": [
      "mean height: 166.7\n",
      "median height: 166.5\n",
      "standard deviation: 7.5372408744845085\n"
     ]
    }
   ],
   "source": [
    "mean=np.mean(heights)\n",
    "print(\"mean height:\",mean)\n",
    "median=np.median(heights)\n",
    "print(\"median height:\",median)\n",
    "std_height=np.std(heights)\n",
    "print(\"standard deviation:\",std_height)"
   ]
  },
  {
   "cell_type": "code",
   "execution_count": 5,
   "id": "430cc57c",
   "metadata": {},
   "outputs": [
    {
     "name": "stdout",
     "output_type": "stream",
     "text": [
      "normalized heights: [-0.88891945 -1.55229217  0.70317509 -0.22554673  1.76457144 -1.15426854\n",
      "  1.10119872 -0.49089581  0.57050054  0.17247691]\n"
     ]
    }
   ],
   "source": [
    "normalized_heights=(heights - mean)/std_height\n",
    "print(\"normalized heights:\",normalized_heights)"
   ]
  },
  {
   "cell_type": "code",
   "execution_count": 6,
   "id": "ea335dd8",
   "metadata": {},
   "outputs": [
    {
     "name": "stdout",
     "output_type": "stream",
     "text": [
      "Tallest student is in index: 4\n",
      "shortest student is index: 1\n"
     ]
    }
   ],
   "source": [
    "tallest=np.argmax(heights)\n",
    "print(\"Tallest student is in index:\",tallest)\n",
    "shortest=np.argmin(heights)\n",
    "print(\"shortest student is index:\",shortest)"
   ]
  },
  {
   "cell_type": "code",
   "execution_count": 7,
   "id": "af6066ce",
   "metadata": {},
   "outputs": [
    {
     "name": "stdout",
     "output_type": "stream",
     "text": [
      "The difference between the tallest and shortest student is: 25 cm\n"
     ]
    }
   ],
   "source": [
    "difference= heights[tallest] - heights[shortest]\n",
    "print(f\"The difference between the tallest and shortest student is: {difference} cm\")"
   ]
  },
  {
   "cell_type": "code",
   "execution_count": 8,
   "id": "3527eb50",
   "metadata": {},
   "outputs": [
    {
     "name": "stdout",
     "output_type": "stream",
     "text": [
      "sample without relacement: [175 155 163 172 180]\n"
     ]
    }
   ],
   "source": [
    "sample_without_replacement=np.random.choice(heights,5,replace=False)\n",
    "print(\"sample without relacement:\",sample_without_replacement)"
   ]
  },
  {
   "cell_type": "code",
   "execution_count": null,
   "id": "a66f2a72",
   "metadata": {},
   "outputs": [],
   "source": []
  },
  {
   "cell_type": "code",
   "execution_count": null,
   "id": "b3745546",
   "metadata": {},
   "outputs": [],
   "source": []
  }
 ],
 "metadata": {
  "kernelspec": {
   "display_name": "Python 3 (ipykernel)",
   "language": "python",
   "name": "python3"
  },
  "language_info": {
   "codemirror_mode": {
    "name": "ipython",
    "version": 3
   },
   "file_extension": ".py",
   "mimetype": "text/x-python",
   "name": "python",
   "nbconvert_exporter": "python",
   "pygments_lexer": "ipython3",
   "version": "3.9.12"
  }
 },
 "nbformat": 4,
 "nbformat_minor": 5
}
